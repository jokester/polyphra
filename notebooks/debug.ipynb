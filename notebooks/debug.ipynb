{
 "cells": [
  {
   "cell_type": "code",
   "execution_count": null,
   "metadata": {},
   "outputs": [],
   "source": [
    "%load_ext autoreload\n",
    "%autoreload 2"
   ]
  },
  {
   "cell_type": "code",
   "execution_count": null,
   "metadata": {},
   "outputs": [],
   "source": [
    "import logging\n",
    "import dotenv as _dotenv\n",
    "\n",
    "_dotenv.load_dotenv()\n",
    "logging.basicConfig(\n",
    "    level=logging.DEBUG,\n",
    "    format=\"%(asctime)s %(levelname)s %(threadName)s %(name)s - %(funcName)s: %(message)s\",\n",
    "    # datefmt=\"%Y-%m-%d %H:%M:%S\",\n",
    ")\n",
    "\n",
    "logger = logging.getLogger(__name__)\n",
    "\n",
    "for info_only in [\"httpcore\", \"LiteLLM\"]:\n",
    "    logging.getLogger(info_only).setLevel(logging.INFO)\n",
    "\n",
    "for warn_only in [\"httpx\"]:\n",
    "    logging.getLogger(warn_only).setLevel(logging.WARN)"
   ]
  },
  {
   "cell_type": "code",
   "execution_count": null,
   "metadata": {},
   "outputs": [],
   "source": [
    "from polyphra_server.minimax_tts import get_minimax_api\n",
    "\n",
    "api = get_minimax_api()\n",
    "\n",
    "api.list_voices()"
   ]
  },
  {
   "cell_type": "markdown",
   "metadata": {},
   "source": []
  },
  {
   "cell_type": "code",
   "execution_count": null,
   "metadata": {},
   "outputs": [],
   "source": [
    "import tempfile\n",
    "\n",
    "api.text_to_audio(\n",
    "    output_directory=f\"{tempfile.gettempdir()}/minimax_tts\",\n",
    "    text=\"hello\",\n",
    "    model=\"speech-02-turbo\",\n",
    "    voice_id=\"the_blonde_winner_2\",\n",
    ")"
   ]
  },
  {
   "cell_type": "code",
   "execution_count": null,
   "metadata": {},
   "outputs": [],
   "source": [
    "from polyphra_server._singleton import ActorId\n",
    "from polyphra_server.gemini_paraphrase import llm_paraphrase\n",
    "from polyphra_server.minimax_tts import text2audio\n",
    "\n",
    "actor = ActorId.the_blonde_winner\n",
    "orig_text = \"\"\"\n",
    "OpenTelemetry is a CNCF standard for observability. It connects to any observability tool, such as Jaeger, Zipkin, Datadog, New Relic, Traceloop and others.\n",
    "\"\"\".strip()\n",
    "\n",
    "rephreased_text = await llm_paraphrase(actor, orig_text)\n",
    "\n",
    "\n",
    "text2audio(\n",
    "    actor,\n",
    "    rephreased_text,\n",
    ")"
   ]
  }
 ],
 "metadata": {
  "language_info": {
   "name": "python",
   "pygments_lexer": "ipython3"
  }
 },
 "nbformat": 4,
 "nbformat_minor": 2
}
